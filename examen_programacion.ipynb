{
  "nbformat": 4,
  "nbformat_minor": 0,
  "metadata": {
    "colab": {
      "provenance": [],
      "authorship_tag": "ABX9TyOF5RR4JBWdOXinCBEYD1+3",
      "include_colab_link": true
    },
    "kernelspec": {
      "name": "python3",
      "display_name": "Python 3"
    },
    "language_info": {
      "name": "python"
    }
  },
  "cells": [
    {
      "cell_type": "markdown",
      "metadata": {
        "id": "view-in-github",
        "colab_type": "text"
      },
      "source": [
        "<a href=\"https://colab.research.google.com/github/calebngp/HaceNa_project1/blob/main/examen_programacion.ipynb\" target=\"_parent\"><img src=\"https://colab.research.google.com/assets/colab-badge.svg\" alt=\"Open In Colab\"/></a>"
      ]
    },
    {
      "cell_type": "code",
      "execution_count": null,
      "metadata": {
        "colab": {
          "base_uri": "https://localhost:8080/"
        },
        "id": "-KFSiu3Aeana",
        "outputId": "ad72ccb6-cd9f-4d04-de31-9da280bbfc9c"
      },
      "outputs": [
        {
          "output_type": "stream",
          "name": "stdout",
          "text": [
            "Marca: Toyota, Modelo: Hilux, Año: 2020, Color: Negro\n",
            "El vehículo Toyota Hilux está arrancando.\n",
            "El vehículo Toyota Hilux está frenando.\n",
            "El maletero del coche Toyota Hilux se está abriendo.\n",
            "\n",
            "Marca: Honda, Modelo: Civic, Año: 2022, Color: Blanco\n",
            "El vehículo Honda Civic está arrancando.\n",
            "El vehículo Honda Civic está frenando.\n",
            "El maletero del coche Honda Civic se está abriendo.\n",
            "\n",
            "Marca: Tesla, Modelo: Model x, Año: 2022, Color: Blanco\n",
            "El vehículo Tesla Model x está frenando.\n",
            "El maletero del coche Tesla Model x se está abriendo.\n"
          ]
        }
      ],
      "source": [
        "\n",
        "\n",
        "class Vehiculo:\n",
        "    def __init__(self, marca, modelo, año, color):\n",
        "        self.marca = marca\n",
        "        self.modelo = modelo\n",
        "        self.año = año\n",
        "        self.color = color\n",
        "\n",
        "    def __str__(self):\n",
        "        return f\"Marca: {self.marca}, Modelo: {self.modelo}, Año: {self.año}, Color: {self.color}\"\n",
        "\n",
        "    def arrancar(self):\n",
        "        print(f\"El vehículo {self.marca} {self.modelo} está arrancando.\")\n",
        "\n",
        "    def frenar(self):\n",
        "        print(f\"El vehículo {self.marca} {self.modelo} está frenando.\")\n",
        "\n",
        "class Coche(Vehiculo):\n",
        "    def __init__(self, marca, modelo, año, color, numero_puertas, tipo_combustible):\n",
        "        super().__init__(marca, modelo, año, color)\n",
        "        self.numero_puertas = numero_puertas\n",
        "        self.tipo_combustible = tipo_combustible\n",
        "\n",
        "    def abrir_maletero(self):\n",
        "        print(f\"El maletero del coche {self.marca} {self.modelo} se está abriendo.\")\n",
        "\n",
        "# Crear dos objetos de la clase Coche\n",
        "coche1 = Coche(\"Toyota\", \"Hilux\", 2020, \"Negro\", 4, \"Nafta\")\n",
        "coche2 = Coche(\"Honda\", \"Civic\", 2022, \"Blanco\", 2, \"Diesel\")\n",
        "coche3 = Coche(\"Tesla\", \"Model x\", 2022, \"Blanco\", 5, \"Electrico\")\n",
        "\n",
        "\n",
        "# Llamar a los métodos en ambos objetos\n",
        "print(coche1)\n",
        "coche1.arrancar()\n",
        "coche1.frenar()\n",
        "coche1.abrir_maletero()\n",
        "\n",
        "print(\"\\n\" + str(coche2))\n",
        "coche2.arrancar()\n",
        "coche2.frenar()\n",
        "coche2.abrir_maletero()\n",
        "\n",
        "print(\"\\n\" + str(coche3))\n",
        "coche3.frenar()\n",
        "coche3.abrir_maletero()\n",
        "\n",
        "\n",
        "#Y si es electrico como sabe que esta arrancado?\n"
      ]
    }
  ]
}